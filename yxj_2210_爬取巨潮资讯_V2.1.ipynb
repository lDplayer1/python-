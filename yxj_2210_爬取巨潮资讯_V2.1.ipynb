{
 "cells": [
  {
   "cell_type": "markdown",
   "id": "d2672177-a5fd-4b51-b3ef-d479fb0ca612",
   "metadata": {
    "jupyter": {
     "outputs_hidden": true
    },
    "tags": []
   },
   "source": [
    "---\n",
    "\n",
    "- **程序简介：** 准备好待爬取企业股票代码清单（.xls格式），通过传入自定义参数即可实现灵活爬取巨潮资讯网上的企业公告！\n",
    "\n",
    "- **使用指南：** 将Codelist_path、Output_path分别改为自己的存储路径，同时根据自己的需求自定义Category_A、SeDate_A、Search_key等参数，然后直接运行即可~（注意：除了“Step1：自定义参数”部分，其它地方请勿修改！）\n",
    "\n",
    "- **版本号：** 巨潮资讯网企业公告自定义爬取_V2.1\n",
    "\n",
    "- **修订时间：** 2022.10.23\n",
    "\n",
    "- **发布者：** yxj\n",
    "\n",
    "---\n"
   ]
  },
  {
   "cell_type": "markdown",
   "id": "472534aa-5a67-481f-88b7-489c9328cf1f",
   "metadata": {
    "tags": []
   },
   "source": [
    "# Part1：准备工作"
   ]
  },
  {
   "cell_type": "markdown",
   "id": "23efbbb9-3fd3-4809-bad2-099f5156a50e",
   "metadata": {},
   "source": [
    "> ------------------------------------使用说明：新手复用此代码时仅需要更改 **“Step1：自定义参数”** 中的几项项参数即可-----------------------------------------"
   ]
  },
  {
   "cell_type": "markdown",
   "id": "1af51c15-bf76-4c9b-a642-7a1ed9d6f7ff",
   "metadata": {},
   "source": [
    "## Step1：自定义参数"
   ]
  },
  {
   "cell_type": "code",
   "execution_count": 1,
   "id": "c21e201c-72eb-48df-a6bc-bb337dd29b17",
   "metadata": {},
   "outputs": [],
   "source": [
    "# 1、定义股票代码列表 和 爬取结果输出地址(最好指定一个空的文件夹)———必选项\n",
    "\n",
    "Codelist_path = r'c:\\Users\\qq264\\Desktop\\SZ_exchange_crawler-master\\data table\\stock number input.xls'\n",
    "Output_path = r'C:\\Users\\qq264\\Desktop\\SZ_exchange_crawler-master\\data table\\output'\n",
    "\n",
    "\n",
    "# 此路径是Step4中的stock_list文件输出地址，若不执行Step4则无需修改\n",
    "Stocklist_path = r'C:\\Users\\qq264\\Desktop\\SZ_exchange_crawler-master\\data table\\stock output.xls'"
   ]
  },
  {
   "cell_type": "code",
   "execution_count": 2,
   "id": "a5574c60-5728-49a0-a89d-5996938f8bc6",
   "metadata": {},
   "outputs": [],
   "source": [
    "# 2、定义要爬取的报表类型（若同时爬取多项中间用;连接）———必选项\n",
    "\n",
    "# 公司年度报告：category_ndbg_szsh\n",
    "# 公司治理报告：category_gszl_szsh\n",
    "\n",
    "Category_All = \"category_ndbg_szsh;category_sjdbg_szsh;category_dshgg_szsh;category_rcjy_szsh;category_sf_szsh;category_pg_szsh;category_kzzq_szsh;category_bcgz_szsh;category_tbclts_szsh;category_tszlq_szsh;category_cqdq_szsh;category_qtrz_szsh;category_jj_szsh;category_zf_szsh;category_gszl_szsh;category_jshgg_szsh;category_yjygjxz_szsh;category_bndbg_szsh;category_yjdbg_szsh;category_qyfpxzcs_szsh;category_gddh_szsh;category_zj_szsh;category_gqjl_szsh;category_gszq_szsh;category_gqbd_szsh;category_fxts_szsh;\"\n",
    "\n",
    "# Category_A = Category_All\n",
    "\n",
    "# Category_A = \"category_ndbg_szsh;\"\n",
    "\n",
    "Category_A = Category_All "
   ]
  },
  {
   "cell_type": "code",
   "execution_count": null,
   "id": "fa0fb002",
   "metadata": {},
   "outputs": [],
   "source": []
  },
  {
   "cell_type": "markdown",
   "id": "8e69ac21-a755-486d-bc1d-56140818373a",
   "metadata": {},
   "source": [
    "**Category参数含义说明：**\n",
    "\n",
    "| category              | 含义       | category               | 含义     | category           | 含义     | category           | 含义     | category             | 含义           |\n",
    "| --------------------- | ---------- | ---------------------- | -------- | ------------------ | -------- | ------------------ | -------- | -------------------- | -------------- |\n",
    "| category_ndbg_szsh    | 年报       | category_qyfpxzcs_szsh | 权益分派 | category_gszl_szsh | 公司治理 | category_pg_szsh   | 配股     | category_gqbd_szsh   | 股权变动       |\n",
    "| category_bndbg_szsh   | 半年报     | category_dshgg_szsh    | 董事会   | category_zj_szsh   | 中介报告 | category_jj_szsh   | 解禁     | category_bcgz_szsh   | 补充更正       |\n",
    "| category_yjdbg_szsh   | 一季报     | category_jshgg_szsh    | 监事会   | category_sf_szsh   | 首发     | category_gszq_szsh | 公司债   | category_cqdq_szsh   | 澄清致歉       |\n",
    "| category_sjdbg_szsh   | 三季报     | category_gddh_szsh     | 股东大会 | category_zf_szsh   | 增发     | category_kzzq_szsh | 可转债   | category_fxts_szsh   | 风险提示       |\n",
    "| category_yjygjxz_szsh | 业绩预告   | category_rcjy_szsh     | 日常经营 | category_gqjl_szsh | 股权激励 | category_qtrz_szsh | 其他融资 | category_tbclts_szsh | 特别处理和退市 |\n",
    "| category_tszlq_szsh   | 退市整理期 |                        |          |                    |          |                    |          |                      |                |"
   ]
  },
  {
   "cell_type": "code",
   "execution_count": 3,
   "id": "d11a92a3-4d01-4911-8beb-6001a2472e28",
   "metadata": {},
   "outputs": [],
   "source": [
    "# 3、定义要爬取的时间段———必选项\n",
    "\n",
    "SeDate_A = '2000-01-01~2024-07-11'"
   ]
  },
  {
   "cell_type": "code",
   "execution_count": 4,
   "id": "72604efd-665b-4123-a68c-2c80c2fdad5d",
   "metadata": {},
   "outputs": [],
   "source": [
    "# 4、定义爬取指定报告的关键词（若不指定则保持为空即可）———可选项\n",
    "\n",
    "Search_key = ''"
   ]
  },
  {
   "cell_type": "markdown",
   "id": "a3071bca-8175-4e38-b6a6-7ab6329e40c6",
   "metadata": {},
   "source": [
    "> ---------------------------------------------------使用说明：以下代码非必要请勿修改！-------------------------------------------------------"
   ]
  },
  {
   "cell_type": "markdown",
   "id": "0ac89b0d-40b2-4713-8b2f-923df4342c69",
   "metadata": {},
   "source": [
    "## Step2：导入工具包"
   ]
  },
  {
   "cell_type": "code",
   "execution_count": 5,
   "id": "3d9bc5aa-f688-4b4e-b52a-444c5bdc11e2",
   "metadata": {},
   "outputs": [],
   "source": [
    "import requests\n",
    "# 用于获取网页内容\n",
    "from urllib.request import urlretrieve\n",
    "# 用于下载网络文件到本地\n",
    "import re\n",
    "# 用于正则匹配\n",
    "import math\n",
    "# 用于调用数学函数\n",
    "import json\n",
    "# 用于解析json\n",
    "import xlwt\n",
    "# 用于写入excel\n",
    "import xlrd\n",
    "# 用于读取excel\n",
    "import os\n",
    "# 用于实现系统功能\n",
    "import pandas as pd\n",
    "# 导入pandas工具库\n",
    "\n",
    "# 若此处报错 ModuleNotFoundError:No module named 'XXX' 时说明XXX包未安装，需自行在控制台通过pip或conda进行安装（小白自行百度“python安装函数包”）"
   ]
  },
  {
   "cell_type": "markdown",
   "id": "a5e3ec30-ac70-47b0-9700-355d3816aa44",
   "metadata": {},
   "source": [
    "## Step3：获取巨潮资讯的数据源格式信息"
   ]
  },
  {
   "cell_type": "code",
   "execution_count": 6,
   "id": "1ded47f1-2728-4302-a374-81963d77e3a5",
   "metadata": {},
   "outputs": [
    {
     "data": {
      "text/plain": [
       "5720"
      ]
     },
     "execution_count": 6,
     "metadata": {},
     "output_type": "execute_result"
    }
   ],
   "source": [
    "# 从以下url中提取所需要的上市企业数据源信息（该url包括了巨潮资讯网上目前所有上市企业的stockList信息，我们的目的是从中获取到不同股票的orgId，以便接下来通过orgId去爬取不同企业的指定报告）\n",
    "url = \"http://www.cninfo.com.cn/new/data/szse_stock.json\"\n",
    "ret = requests.get(url=url)\n",
    "ret = ret.content\n",
    "stock_list = json.loads(ret)[\"stockList\"]\n",
    "\n",
    "# 查看巨潮资讯网一共收录了多少家企业数据\n",
    "len(stock_list)"
   ]
  },
  {
   "cell_type": "code",
   "execution_count": 7,
   "id": "515ea855-5fde-4780-87cd-b2a60c977591",
   "metadata": {},
   "outputs": [
    {
     "name": "stdout",
     "output_type": "stream",
     "text": [
      "[{'code': '000001', 'pinyin': 'payh', 'category': 'A股', 'orgId': 'gssz0000001', 'zwjc': '平安银行'}, {'code': '000002', 'pinyin': 'wka', 'category': 'A股', 'orgId': 'gssz0000002', 'zwjc': '万科A'}]\n"
     ]
    }
   ],
   "source": [
    "# 输出stock_list中的前两项，查看一下列表中的具体数据形式\n",
    "print(stock_list[:2])"
   ]
  },
  {
   "cell_type": "markdown",
   "id": "965bc297-1097-4329-a11d-3134017267ad",
   "metadata": {},
   "source": [
    "## Step4：用pandas把stock_list信息导出为本地Excel文件以便日后备用（可选）"
   ]
  },
  {
   "cell_type": "code",
   "execution_count": 8,
   "id": "153b1467-dc67-4137-8df7-063d45912317",
   "metadata": {},
   "outputs": [
    {
     "name": "stderr",
     "output_type": "stream",
     "text": [
      "C:\\Users\\qq264\\AppData\\Local\\Temp\\ipykernel_134220\\827394881.py:17: FutureWarning: As the xlwt package is no longer maintained, the xlwt engine will be removed in a future version of pandas. This is the only engine in pandas that supports writing in the xls format. Install openpyxl and write to an xlsx file instead. You can set the option io.excel.xls.writer to 'xlwt' to silence this warning. While this option is deprecated and will also raise a warning, it can be globally set and the warning suppressed.\n",
      "  file_path = pd.ExcelWriter(Stocklist_path)\n"
     ]
    }
   ],
   "source": [
    "def export_excel(export):\n",
    "    # 将字典列表转换为DataFrame\n",
    "    pf = pd.DataFrame(export)\n",
    "    # 指定字段顺序\n",
    "    order = ['orgId', 'category', 'code', 'pinyin', 'zwjc']\n",
    "    pf = pf[order]\n",
    "    # 将列名替换为中文\n",
    "    columns_map = {\n",
    "        'orgId': 'orgId（原始ID）',\n",
    "        'category': 'category（股市类型）',\n",
    "        'code': 'code（代码）',\n",
    "        'pinyin': 'pinyin（拼音）',\n",
    "        'zwjc': 'zwjc（）'\n",
    "    }\n",
    "    pf.rename(columns=columns_map, inplace=True)\n",
    "    # 指定stock_list的存储路径（此处可自行更改）\n",
    "    file_path = pd.ExcelWriter(Stocklist_path)\n",
    "    # 替换空单元格\n",
    "    pf.fillna(' ', inplace=True)\n",
    "    # 输出\n",
    "    pf.to_excel(file_path, encoding='utf-8', index=False)\n",
    "    # 保存表格\n",
    "    file_path.save()\n",
    "\n",
    "\n",
    "if __name__ == '__main__':\n",
    "    # 将分析完成的列表导出为excel表格\n",
    "    export_excel(stock_list)"
   ]
  },
  {
   "cell_type": "markdown",
   "id": "9f1ae5ba-c9aa-4eba-9dfc-8b1bd1092754",
   "metadata": {},
   "source": [
    "## Step5：从stock_list中提取code与orgId建立“code-orgId”匹配清单"
   ]
  },
  {
   "cell_type": "code",
   "execution_count": 9,
   "id": "fa577687-f66d-4b87-afd3-258e79d5a3da",
   "metadata": {
    "tags": []
   },
   "outputs": [
    {
     "name": "stdout",
     "output_type": "stream",
     "text": [
      "\n",
      "正在进行服务器数据库检索，共找到 5720 家上市公司！\n",
      "\n",
      " --------------------------------服务器数据比对工作完成，即将开始载入数据进行匹配！--------------------------------\n",
      "\n",
      "\n",
      " --------------------------数据匹配完成，共生成 5720 家上市公司的“code-orgId”匹配数据！--------------------------\n",
      "\n"
     ]
    }
   ],
   "source": [
    "# 提取stock_list中的code与orgId，遍历生成独立字典\n",
    "code_dic = {(it['code']): it['orgId'] for it in stock_list}\n",
    "\n",
    "print(\"\\n正在进行服务器数据库检索，共找到 {} 家上市公司！\\n\\n --------------------------------服务器数据比对工作完成，即将开始载入数据进行匹配！--------------------------------\\n\".format(len(code_dic)))\n",
    "\n",
    "# 若要输出查看具体“code-orgId”匹配内容请取消注释此行\n",
    "# print(code_dic)\n",
    "\n",
    "print(\"\\n --------------------------数据匹配完成，共生成 {} 家上市公司的“code-orgId”匹配数据！--------------------------\\n\".format(len(code_dic)))\n",
    "\n"
   ]
  },
  {
   "cell_type": "markdown",
   "id": "fd67b09f-acc4-403b-8d9b-686696ea1b65",
   "metadata": {},
   "source": [
    "## Step6：从Excel文件读取待爬取的股票清单并生成列表code_list"
   ]
  },
  {
   "cell_type": "code",
   "execution_count": 10,
   "id": "106eb466-ba27-4411-8210-383dff5f1030",
   "metadata": {},
   "outputs": [
    {
     "name": "stdout",
     "output_type": "stream",
     "text": [
      "['000656', '*ST金科']\n",
      "待爬取企业已从xls文件中加载完毕，结果如下：\n",
      " [['000656', '*ST金科']]\n",
      "\n"
     ]
    }
   ],
   "source": [
    "# 定义一个读取xls文件数据并转为列表的类\n",
    "\n",
    "class excel_read:\n",
    "    def __init__(self, excel_path=Codelist_path, encoding='utf-8', index=0):  # 待爬取企业清单路径\n",
    "        #       获取文本对象\n",
    "        self.data = xlrd.open_workbook(excel_path)\n",
    "#       根据index获取某个sheet\n",
    "        self.table = self.data.sheets()[index]\n",
    "#       获取当前sheet页面的总行数,把每一行数据作为list放到 list\n",
    "        self.rows = self.table.nrows\n",
    "\n",
    "    def get_data(self):\n",
    "        result = []\n",
    "        for i in range(self.rows):\n",
    "            #           获取每一行的数据\n",
    "            col = self.table.row_values(i)\n",
    "            print(col)\n",
    "            result.append(col)\n",
    "        print(\"待爬取企业已从xls文件中加载完毕，结果如下：\\n {}\\n\".format(result))\n",
    "        return result\n",
    "\n",
    "# 运用函数生成待爬取企业的code_list\n",
    "code_list = []\n",
    "code_list.extend(excel_read().get_data())"
   ]
  },
  {
   "cell_type": "markdown",
   "id": "87594eae-bc95-4a51-a577-5817c708990a",
   "metadata": {},
   "source": [
    "# Part2：正式工作"
   ]
  },
  {
   "cell_type": "markdown",
   "id": "856a8171-9071-4ef1-875f-2edeab98a92c",
   "metadata": {},
   "source": [
    "## Step1：定义爬取函数"
   ]
  },
  {
   "cell_type": "code",
   "execution_count": 11,
   "id": "98982f3e-b099-4fbd-a224-a429e9681e62",
   "metadata": {},
   "outputs": [],
   "source": [
    "# 1、对单个页面进行请求，并返回数据信息——通过data自定义特定企业\n",
    "def get_and_download_pdf_flie(pageNum, stock, searchkey='', category='', seDate=''):\n",
    "    url = 'http://www.cninfo.com.cn/new/hisAnnouncement/query'\n",
    "    pageNum = int(pageNum)\n",
    "#   定义表单数据\n",
    "    data = {'pageNum': pageNum,\n",
    "            'pageSize': 30,\n",
    "            'column': '',\n",
    "            'tabName': 'fulltext',\n",
    "            'plate': '',\n",
    "            'stock': stock,\n",
    "            'searchkey': searchkey,\n",
    "            'secid': '',\n",
    "            'category': category,\n",
    "            'trade': '',\n",
    "            'seDate': seDate,\n",
    "            'sortName': '',\n",
    "            'sortType': '',\n",
    "            'isHLtitle': 'true'}\n",
    "\n",
    "#   定义请求头（非小白建议更改为自己浏览器的headers）\n",
    "    headers = {'Accept': '*/*',\n",
    "               'Accept-Encoding': 'gzip, deflate',\n",
    "               'Accept-Language': 'zh-CN,zh;q=0.9',\n",
    "               'Connection': 'keep-alive',\n",
    "               'Content-Length': '181',\n",
    "               'Content-Type': 'application/x-www-form-urlencoded; charset=UTF-8',\n",
    "               'Host': 'www.cninfo.com.cn',\n",
    "               'Origin': 'http://www.cninfo.com.cn',\n",
    "               'Referer': 'http://www.cninfo.com.cn/new/commonUrl/pageOfSearch?url=disclosure/list/search',\n",
    "               'User-Agent': 'Mozilla/5.0 (Windows NT 10.0; Win64; x64) AppleWebKit/537.36 (KHTML, like Gecko) Chrome/93.0.4577.82 Safari/537.36',\n",
    "               'X-Requested-With': 'XMLHttpRequest'}\n",
    "\n",
    "#   提交请求\n",
    "    r = requests.post(url, data=data, headers=headers)\n",
    "\n",
    "#   获取单页年报的数据，数据格式为json，解析并获取json中的年报信息\n",
    "    result = r.json()['announcements']\n",
    "\n",
    "\n",
    "# 2.对数据信息进行提取\n",
    "    for i in result:\n",
    "        #         避免下载一些年报摘要等不需要的文件\n",
    "        if re.search('摘要', i['announcementTitle']):\n",
    "            pass\n",
    "        else:\n",
    "            title = i['announcementTitle']\n",
    "\n",
    "#           获取公告文件名\n",
    "            secName = i['secName']\n",
    "\n",
    "#           获取公司股票代码\n",
    "            secCode = i['secCode']\n",
    "\n",
    "#           获取adjunctUrl，并组合生成pdf文件下载地址（分析得知巨潮资讯数据库pdf下载地址格式：http://static.cninfo.com.cn/+adjunctUrl）\n",
    "            adjunctUrl = i['adjunctUrl']\n",
    "            down_url = 'http://static.cninfo.com.cn/'+adjunctUrl\n",
    "\n",
    "#           定义下载之后需要保存到本地的文件名\n",
    "            filename = f'{secCode}{secName}{title}.pdf'\n",
    "    \n",
    "#           用正则表达式将公告文件名中的特殊符号去掉，因为保存文件时命名规则不能带有某些特殊符号（比如*号），否则会导致程序报错\n",
    "            filename = re.sub(r'[(*)(<)(>)(\\\\)(|)(\\\")(?)(:)(/)(<em>)(</em>)]', '', filename)\n",
    "\n",
    "#           定义文件存放地址\n",
    "            filepath = saving_path+'\\\\'+filename\n",
    "\n",
    "#           提交下载请求\n",
    "            r = requests.get(down_url)\n",
    "\n",
    "#           用response.content来写入文件信息\n",
    "            with open(filepath, 'wb') as f:\n",
    "                f.write(r.content)\n",
    "\n",
    "#           设置进度条\n",
    "            print(f'{filename}下载完毕')"
   ]
  },
  {
   "cell_type": "markdown",
   "id": "d5b660ca-c7e9-4822-9fc7-c1e46e404706",
   "metadata": {},
   "source": [
    "## Step2：自定义保存路径及确定待爬企业数量"
   ]
  },
  {
   "cell_type": "code",
   "execution_count": 12,
   "id": "dae10750-07d1-4211-adc8-d3bf8b2df627",
   "metadata": {},
   "outputs": [
    {
     "name": "stdout",
     "output_type": "stream",
     "text": [
      "待爬取企业总数量为：1\n",
      "\n",
      " ------------------------------------已加载待爬取企业匹配信息，即将开始爬取数据！------------------------------------\n",
      "\n"
     ]
    }
   ],
   "source": [
    "# 设置存储年报文件的具体路劲\n",
    "saving_path = Output_path\n",
    "\n",
    "# 根据code_list计算待爬企业数量\n",
    "Num = len(code_list)\n",
    "\n",
    "print(\"待爬取企业总数量为：{}\\n\\n ------------------------------------已加载待爬取企业匹配信息，即将开始爬取数据！------------------------------------\\n\".format(Num))"
   ]
  },
  {
   "cell_type": "markdown",
   "id": "6b3b2c12-8d64-4cb6-a759-318374c1b850",
   "metadata": {},
   "source": [
    "## Step3：设定参数进行遍历爬取"
   ]
  },
  {
   "cell_type": "code",
   "execution_count": 14,
   "id": "fcc91f9d-42ab-439a-95d4-16cfe184a77b",
   "metadata": {
    "tags": []
   },
   "outputs": [
    {
     "name": "stdout",
     "output_type": "stream",
     "text": [
      "\n",
      "即将爬取 000656,gssz0000656 ：\n",
      "000656金科股份关于存续债务融资工具相关事项的公告.pdf下载完毕\n",
      "000656金科股份关于发行股份购买资产暨关联交易事项的进展公告.pdf下载完毕\n",
      "000656金科股份公司累计诉讼、仲裁事项的公告.pdf下载完毕\n",
      "000656金科股份关于对参股公司提供担保的进展公告.pdf下载完毕\n",
      "000656金科股份关于公司被债权人申请重整的进展公告.pdf下载完毕\n",
      "000656金科股份关于对控股子公司提供担保的进展公告.pdf下载完毕\n",
      "000656金科股份关于股票交易异常波动的公告.pdf下载完毕\n",
      "000656金科股份关于股票交易异常波动的公告.pdf下载完毕\n",
      "000656金科股份2023年半年度业绩预告.pdf下载完毕\n",
      "000656金科股份关于卓越共赢计划暨2019至2023年员工持股计划之一期持股计划存续期即将届满的提示性公告.pdf下载完毕\n",
      "000656金科股份关于股票交易异常波动的公告.pdf下载完毕\n",
      "000656金科股份关于存续期公司债券及资产证券化产品展期完成的公告.pdf下载完毕\n",
      "000656金科股份关于公司被债权人申请重整的进展公告.pdf下载完毕\n",
      "000656金科股份关于签署战略投资框架协议的公告.pdf下载完毕\n",
      "000656金科股份关于深圳证券交易所问询函回复的公告.pdf下载完毕\n",
      "000656金科股份金科股份发行股份购买资产暨关联交易预案（修订稿）.pdf下载完毕\n",
      "000656金科股份关于公司债务情况的公告.pdf下载完毕\n",
      "000656金科股份公司累计诉讼、仲裁事项的公告.pdf下载完毕\n",
      "000656金科股份北京市中伦（重庆）律师事务所关于金科地产集团股份有限公司2023年第四次临时股东大会的法律意见书.pdf下载完毕\n",
      "000656金科股份关于对参股公司提供担保的进展公告.pdf下载完毕\n",
      "000656金科股份关于2023年第四次临时股东大会决议公告.pdf下载完毕\n",
      "000656金科股份关于对控股子公司提供担保的进展公告.pdf下载完毕\n",
      "000656金科股份金科股份发行股份购买资产暨关联交易预案.pdf下载完毕\n",
      "000656金科股份董事会关于本次重组符合《上市公司监管指引第9号——上市公司筹划和实施重大资产重组的监管要求》第四条规定的说明.pdf下载完毕\n",
      "000656金科股份关于第十一届董事会第三十五次会议决议的公告.pdf下载完毕\n",
      "000656金科股份董事会关于本次重组信息披露前股价波动情况的说明.pdf下载完毕\n",
      "000656金科股份关于第十一届监事会第十二次会议决议的公告.pdf下载完毕\n",
      "000656金科股份关于发行股份购买资产暨关联交易事项进展情况及风险提示暨公司股票复牌的提示性公告.pdf下载完毕\n",
      "000656金科股份关于发行股份购买资产暨关联交易事项前十大股东和前十大流通股股东持股情况的公告.pdf下载完毕\n",
      "000656金科股份董事会关于本次交易不构成《上市公司重大资产重组管理办法》第十三条规定的重组上市的说明.pdf下载完毕\n",
      "000656金科股份董事会关于本次交易符合《上市公司重大资产重组管理办法》第十一条、第四十三条规定的说明.pdf下载完毕\n",
      "000656金科股份董事会关于本次交易前12个月内购买、出售资产的说明.pdf下载完毕\n",
      "000656金科股份董事会关于本次交易相关主体不存在依据《上市公司监管指引第7号——上市公司重大资产重组相关股票异常交易监管》第十二条不得参与任何上市公司重大资产重组情形的说明.pdf下载完毕\n",
      "000656金科股份董事会关于本次交易履行法定程序的完备性、合规性及提交的法律文件的有效性的说明.pdf下载完毕\n",
      "000656金科股份独立董事关于公司发行股份购买资产暨关联交易相关事项的独立意见.pdf下载完毕\n",
      "000656金科股份董事会关于本次交易采取的保密措施及保密制度的说明.pdf下载完毕\n",
      "000656金科股份独立董事关于公司发行股份购买资产暨关联交易相关事项的事前认可意见.pdf下载完毕\n",
      "000656金科股份关于召开2023年第四次临时股东大会的提示性公告.pdf下载完毕\n",
      "000656金科股份关于存续债务融资工具相关事项的公告.pdf下载完毕\n",
      "000656金科股份关于筹划发行股份购买资产事项暨停牌的进展公告.pdf下载完毕\n",
      "000656金科股份关于深圳证券交易所年报问询函回复的公告.pdf下载完毕\n",
      "000656金科股份关于召开2023年第四次临时股东大会的通知.pdf下载完毕\n",
      "000656金科股份关于对部分参股房地产项目公司增加担保额度的公告.pdf下载完毕\n",
      "000656金科股份关于第十一届董事会第三十四次会议相关事项的独立意见.pdf下载完毕\n",
      "000656金科股份关于第十一届董事会第三十四次会议决议的公告.pdf下载完毕\n",
      "000656金科股份更正公告.pdf下载完毕\n",
      "000656金科股份关于股票交易异常波动的公告（更正后）.pdf下载完毕\n",
      "000656金科股份关于股票交易异常波动的公告.pdf下载完毕\n",
      "000656金科股份关于筹划发行股份购买资产事项暨停牌的公告.pdf下载完毕\n",
      "000656金科股份关于公司控股股东增持公司股份的进展公告.pdf下载完毕\n",
      "000656金科股份关于公司部分董监高及核心骨干增持公司股份的进展公告.pdf下载完毕\n",
      "000656金科股份关于对控股子公司提供担保的进展公告.pdf下载完毕\n",
      "000656金科股份关于重大诉讼事项的公告.pdf下载完毕\n",
      "000656金科股份关于公司控股股东增持公司股份的进展公告.pdf下载完毕\n",
      "000656金科股份关于公司债券相关事项的公告.pdf下载完毕\n",
      "000656金科股份关于媒体报道的澄清公告.pdf下载完毕\n",
      "000656金科股份关于被债权人申请重整的专项自查公告.pdf下载完毕\n",
      "000656金科股份关于深圳证券交易所关注函回复的公告.pdf下载完毕\n",
      "-------------------------------------------------程序执行完成！-------------------------------------------------\n"
     ]
    }
   ],
   "source": [
    "# 从code_list中根据待爬企业数量遍历提取code与orgIdS\n",
    "for i in range(0, Num):\n",
    "    code = code_list[i][0]\n",
    "    orgId = code_dic[code]\n",
    "#     定义stock\n",
    "    stock = '{},{}'.format(code, orgId)\n",
    "    print(\"\\n即将爬取 {} ：\".format(stock))\n",
    "#     定义searchkey\n",
    "    searchkey_A = Search_key\n",
    "#     定义category\n",
    "    category = Category_A\n",
    "#     定义seDate\n",
    "    seDate = SeDate_A\n",
    "\n",
    "#     定义pageNum（需要通过观测，确保pageNum能够涵盖每一次遍历请求的结果页数，此处定为2页即可）\n",
    "    for pageNum in range(8, 10):\n",
    "        try:\n",
    "            get_and_download_pdf_flie(\n",
    "                pageNum, stock, searchkey_A, category, seDate,)\n",
    "        except:\n",
    "            #        超出页数后会报错，需要跳过异常以便于继续遍历执行\n",
    "            pass\n",
    "\n",
    "print(\"-------------------------------------------------程序执行完成！-------------------------------------------------\")"
   ]
  },
  {
   "cell_type": "code",
   "execution_count": null,
   "id": "794d9dcd-be19-4a18-b64c-7ce7c3f9f138",
   "metadata": {},
   "outputs": [],
   "source": []
  }
 ],
 "metadata": {
  "kernelspec": {
   "display_name": "Python 3 (ipykernel)",
   "language": "python",
   "name": "python3"
  },
  "language_info": {
   "codemirror_mode": {
    "name": "ipython",
    "version": 3
   },
   "file_extension": ".py",
   "mimetype": "text/x-python",
   "name": "python",
   "nbconvert_exporter": "python",
   "pygments_lexer": "ipython3",
   "version": "3.9.13"
  }
 },
 "nbformat": 4,
 "nbformat_minor": 5
}
